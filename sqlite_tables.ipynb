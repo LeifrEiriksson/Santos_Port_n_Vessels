{
 "cells": [
  {
   "cell_type": "code",
   "execution_count": 29,
   "metadata": {},
   "outputs": [],
   "source": [
    "import sqlite3"
   ]
  },
  {
   "cell_type": "code",
   "execution_count": 30,
   "metadata": {},
   "outputs": [],
   "source": [
    "conn = sqlite3.connect('data/raw_pvs.db') #port and vessels"
   ]
  },
  {
   "cell_type": "code",
   "execution_count": 31,
   "metadata": {},
   "outputs": [],
   "source": [
    "cursor = conn.cursor()"
   ]
  },
  {
   "cell_type": "code",
   "execution_count": 32,
   "metadata": {},
   "outputs": [
    {
     "data": {
      "text/plain": [
       "<sqlite3.Cursor at 0x1d7f18173c0>"
      ]
     },
     "execution_count": 32,
     "metadata": {},
     "output_type": "execute_result"
    }
   ],
   "source": [
    "cursor.execute(\"\"\"\n",
    "    CREATE TABLE IF NOT EXISTS weather_data (\n",
    "        date TIMESTAMP,\n",
    "        temperature_2m FLOAT,\n",
    "        relative_humidity_2m FLOAT,\n",
    "        dew_point_2m FLOAT,\n",
    "        precipitation_probability FLOAT,\n",
    "        precipitation FLOAT,\n",
    "        rain FLOAT,\n",
    "        pressure_msl FLOAT,\n",
    "        surface_pressure FLOAT,\n",
    "        visibility FLOAT,\n",
    "        evapotranspiration FLOAT,\n",
    "        wind_speed_80m FLOAT,\n",
    "        wind_speed_120m FLOAT,\n",
    "        wind_direction_80m FLOAT,\n",
    "        wind_direction_120m FLOAT\n",
    "    )\n",
    "\"\"\")"
   ]
  },
  {
   "cell_type": "code",
   "execution_count": 33,
   "metadata": {},
   "outputs": [
    {
     "data": {
      "text/plain": [
       "<sqlite3.Cursor at 0x1d7f18173c0>"
      ]
     },
     "execution_count": 33,
     "metadata": {},
     "output_type": "execute_result"
    }
   ],
   "source": [
    "cursor.execute(\"\"\"\n",
    "CREATE TABLE IF NOT EXISTS scheduled (\n",
    "    Date TIMESTAMP,\n",
    "    Hour VARCHAR,\n",
    "    ETA TIMESTAMP,\n",
    "    Place VARCHAR,\n",
    "    Ship VARCHAR,\n",
    "    IMO VARCHAR,\n",
    "    Cargo VARCHAR,\n",
    "    Event VARCHAR,\n",
    "    Voyage VARCHAR,\n",
    "    DUV VARCHAR,\n",
    "    Flag VARCHAR,\n",
    "    UPDATED_AT TIMESTAMP\n",
    ");\n",
    "\"\"\")"
   ]
  },
  {
   "cell_type": "code",
   "execution_count": 34,
   "metadata": {},
   "outputs": [
    {
     "data": {
      "text/plain": [
       "<sqlite3.Cursor at 0x1d7f18173c0>"
      ]
     },
     "execution_count": 34,
     "metadata": {},
     "output_type": "execute_result"
    }
   ],
   "source": [
    "cursor.execute(\"\"\"\n",
    "CREATE TABLE IF NOT EXISTS foreseen_cargo (\n",
    "    Ship VARCHAR,\n",
    "    Flag VARCHAR,\n",
    "    Draft VARCHAR,\n",
    "    Nav VARCHAR,\n",
    "    Arrival TIMESTAMP,\n",
    "    Notice VARCHAR,\n",
    "    Office VARCHAR,\n",
    "    Operation VARCHAR,\n",
    "    Goods VARCHAR,\n",
    "    Weight VARCHAR,\n",
    "    Voyage VARCHAR,\n",
    "    DUV VARCHAR,\n",
    "    Terminal VARCHAR,\n",
    "    IMO VARCHAR,\n",
    "    UPDATED_AT TIMESTAMP\n",
    ");\n",
    "\"\"\")"
   ]
  },
  {
   "cell_type": "code",
   "execution_count": 35,
   "metadata": {},
   "outputs": [
    {
     "data": {
      "text/plain": [
       "<sqlite3.Cursor at 0x1d7f18173c0>"
      ]
     },
     "execution_count": 35,
     "metadata": {},
     "output_type": "execute_result"
    }
   ],
   "source": [
    "cursor.execute(\"\"\"\n",
    "CREATE TABLE IF NOT EXISTS foreseen_cruise (\n",
    "    Ship VARCHAR,\n",
    "    Flag VARCHAR,\n",
    "    Draft VARCHAR,\n",
    "    Nav VARCHAR,\n",
    "    Arrival TIMESTAMP,\n",
    "    Notice VARCHAR,\n",
    "    Office VARCHAR,\n",
    "    Voyage VARCHAR,\n",
    "    DUV VARCHAR,\n",
    "    P VARCHAR,\n",
    "    Terminal VARCHAR,\n",
    "    IMO VARCHAR,\n",
    "    UPDATED_AT TIMESTAMP\n",
    ");\n",
    "\"\"\")\n"
   ]
  },
  {
   "cell_type": "code",
   "execution_count": 36,
   "metadata": {},
   "outputs": [
    {
     "data": {
      "text/plain": [
       "<sqlite3.Cursor at 0x1d7f18173c0>"
      ]
     },
     "execution_count": 36,
     "metadata": {},
     "output_type": "execute_result"
    }
   ],
   "source": [
    "cursor.execute(\"\"\"\n",
    "CREATE TABLE IF NOT EXISTS berthage_ships (\n",
    "    Ship VARCHAR,\n",
    "    Flag VARCHAR,\n",
    "    Draft VARCHAR,\n",
    "    Nav VARCHAR,\n",
    "    Arrival TIMESTAMP,\n",
    "    Notice VARCHAR,\n",
    "    Office VARCHAR,\n",
    "    Operat VARCHAR,\n",
    "    Type VARCHAR,\n",
    "    Weight VARCHAR,\n",
    "    Voyage VARCHAR,\n",
    "    P VARCHAR,\n",
    "    Terminal VARCHAR,\n",
    "    UPDATED_AT TIMESTAMP\n",
    ");\n",
    "\"\"\")"
   ]
  },
  {
   "cell_type": "code",
   "execution_count": 37,
   "metadata": {},
   "outputs": [
    {
     "data": {
      "text/plain": [
       "<sqlite3.Cursor at 0x1d7f18173c0>"
      ]
     },
     "execution_count": 37,
     "metadata": {},
     "output_type": "execute_result"
    }
   ],
   "source": [
    "cursor.execute(\"\"\"\n",
    "CREATE TABLE IF NOT EXISTS berthed_ships (\n",
    "    Place VARCHAR,\n",
    "    Ship VARCHAR,\n",
    "    Cargo VARCHAR,\n",
    "    Unload INTEGER,\n",
    "    Load INTEGER,\n",
    "    Flag VARCHAR,\n",
    "    IMO VARCHAR,\n",
    "    UPDATED_AT TIMESTAMP\n",
    ");\n",
    "\"\"\")"
   ]
  },
  {
   "cell_type": "code",
   "execution_count": 38,
   "metadata": {},
   "outputs": [],
   "source": [
    "conn.commit()\n",
    "conn.close()"
   ]
  }
 ],
 "metadata": {
  "kernelspec": {
   "display_name": "venv",
   "language": "python",
   "name": "python3"
  },
  "language_info": {
   "codemirror_mode": {
    "name": "ipython",
    "version": 3
   },
   "file_extension": ".py",
   "mimetype": "text/x-python",
   "name": "python",
   "nbconvert_exporter": "python",
   "pygments_lexer": "ipython3",
   "version": "3.10.11"
  }
 },
 "nbformat": 4,
 "nbformat_minor": 2
}
