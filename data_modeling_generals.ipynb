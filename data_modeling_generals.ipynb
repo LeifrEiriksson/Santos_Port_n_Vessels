{
 "cells": [
  {
   "cell_type": "code",
   "execution_count": 26,
   "metadata": {},
   "outputs": [],
   "source": [
    "import data_processing.port_n_vessels as port\n",
    "import data_processing.weather as weather\n",
    "import data_processing.port_tracker as tracker\n",
    "\n",
    "import numpy as np\n",
    "import sqlite3\n",
    "from datetime import datetime, timedelta\n",
    "import pandas as pd\n",
    "from datetime import datetime\n",
    "import requests\n",
    "from bs4 import BeautifulSoup\n"
   ]
  },
  {
   "cell_type": "code",
   "execution_count": 27,
   "metadata": {},
   "outputs": [
    {
     "name": "stderr",
     "output_type": "stream",
     "text": [
      "c:\\Users\\João Vitor\\Desktop\\Projetos\\Santos_Port_n_Vessels\\venv\\lib\\site-packages\\urllib3\\connectionpool.py:1097: InsecureRequestWarning: Unverified HTTPS request is being made to host 'www.portodesantos.com.br'. Adding certificate verification is strongly advised. See: https://urllib3.readthedocs.io/en/latest/advanced-usage.html#tls-warnings\n",
      "  warnings.warn(\n",
      "c:\\Users\\João Vitor\\Desktop\\Projetos\\Santos_Port_n_Vessels\\venv\\lib\\site-packages\\urllib3\\connectionpool.py:1097: InsecureRequestWarning: Unverified HTTPS request is being made to host 'www.portodesantos.com.br'. Adding certificate verification is strongly advised. See: https://urllib3.readthedocs.io/en/latest/advanced-usage.html#tls-warnings\n",
      "  warnings.warn(\n",
      "c:\\Users\\João Vitor\\Desktop\\Projetos\\Santos_Port_n_Vessels\\venv\\lib\\site-packages\\urllib3\\connectionpool.py:1097: InsecureRequestWarning: Unverified HTTPS request is being made to host 'www.portodesantos.com.br'. Adding certificate verification is strongly advised. See: https://urllib3.readthedocs.io/en/latest/advanced-usage.html#tls-warnings\n",
      "  warnings.warn(\n",
      "c:\\Users\\João Vitor\\Desktop\\Projetos\\Santos_Port_n_Vessels\\venv\\lib\\site-packages\\urllib3\\connectionpool.py:1097: InsecureRequestWarning: Unverified HTTPS request is being made to host 'www.portodesantos.com.br'. Adding certificate verification is strongly advised. See: https://urllib3.readthedocs.io/en/latest/advanced-usage.html#tls-warnings\n",
      "  warnings.warn(\n",
      "c:\\Users\\João Vitor\\Desktop\\Projetos\\Santos_Port_n_Vessels\\venv\\lib\\site-packages\\urllib3\\connectionpool.py:1097: InsecureRequestWarning: Unverified HTTPS request is being made to host 'www.portodesantos.com.br'. Adding certificate verification is strongly advised. See: https://urllib3.readthedocs.io/en/latest/advanced-usage.html#tls-warnings\n",
      "  warnings.warn(\n"
     ]
    }
   ],
   "source": [
    "crawler_dict = port.crawler()\n",
    "hourly_weather_data = weather.openmeteo_hourly()\n",
    "port_calls = tracker.port_calls()\n",
    "port_berthed_f1 = tracker.inport() #Another reference"
   ]
  },
  {
   "cell_type": "code",
   "execution_count": 28,
   "metadata": {},
   "outputs": [],
   "source": [
    "scheduled = crawler_dict['scheduled']['df']\n",
    "scheduled['Date'] = pd.to_datetime(scheduled['Date'], format='mixed',dayfirst=True)\n",
    "scheduled['ETA'] = pd.to_datetime(scheduled['ETA'], format='mixed', dayfirst=True)\n",
    "scheduled['UPDATED_AT'] = datetime.now()\n",
    "\n",
    "#-----------------------------------------------------------------------------#\n",
    "\n",
    "foreseen_cargo = crawler_dict['foreseen_cargo']['df']\n",
    "foreseen_cargo.drop(columns=['P'], axis=1, inplace=True)\n",
    "foreseen_cargo['Arrival'] = pd.to_datetime(foreseen_cargo['Arrival'], format='mixed', dayfirst=True)\n",
    "foreseen_cargo['UPDATED_AT'] = datetime.now()\n",
    "\n",
    "#-----------------------------------------------------------------------------#\n",
    "\n",
    "foreseen_cruise = crawler_dict['foreseen_cruise']['df']\n",
    "foreseen_cruise['Arrival'] = pd.to_datetime(foreseen_cruise['Arrival'], format='mixed', dayfirst=True)\n",
    "foreseen_cruise['UPDATED_AT'] = datetime.now()\n",
    "\n",
    "#-----------------------------------------------------------------------------#\n",
    "\n",
    "berthage_ships = crawler_dict['berthage_ships']['df']\n",
    "berthage_ships['Arrival'] = pd.to_datetime(berthage_ships['Arrival'], format='mixed', dayfirst=True)\n",
    "berthage_ships['Ship'] = berthage_ships['Ship'].str.replace(r'PROGRAMADO', '', case=False, regex=True)\n",
    "berthage_ships['UPDATED_AT'] = datetime.now()\n",
    "\n",
    "#-----------------------------------------------------------------------------#\n",
    "\n",
    "berthed_ships = crawler_dict['berthed_ships']['df']\n",
    "berthed_ships['Load'] = berthed_ships['Load'].astype(int)\n",
    "berthed_ships['Unload'] = berthed_ships['Unload'].astype(int)\n",
    "berthage_ships['UPDATED_AT'] = datetime.now()\n",
    "\n",
    "#------------------------------------------------------------------------#\n",
    "\n",
    "port_berthed_f1[\"DWT\"] = port_berthed_f1[\"DWT\"].replace(r'---', None)\n",
    "port_berthed_f1[\"DWT\"] = port_berthed_f1[\"DWT\"].str.replace(r',', '')\n",
    "port_berthed_f1[\"DWT_Unit\"] = port_berthed_f1[\"DWT\"].str.split().str[1]\n",
    "port_berthed_f1[\"DWT\"] = port_berthed_f1[\"DWT\"].str.split().str[0]\n",
    "\n",
    "#------------------------------------------------------------------------#\n",
    "\n",
    "port_berthed_f1[\"GRT\"] = port_berthed_f1[\"GRT\"].replace(r'---', None)\n",
    "port_berthed_f1[\"GRT\"] = port_berthed_f1[\"GRT\"].str.replace(r',', '')\n",
    "port_berthed_f1[\"GRT_Unit\"] = port_berthed_f1['GRT'].str.split().str[1]\n",
    "port_berthed_f1[\"GRT\"] = port_berthed_f1[\"GRT\"].str.split().str[0]"
   ]
  },
  {
   "cell_type": "code",
   "execution_count": 63,
   "metadata": {},
   "outputs": [],
   "source": [
    "conn = sqlite3.connect('data/raw_pvs.db')\n",
    "cursor = conn.cursor()"
   ]
  },
  {
   "cell_type": "code",
   "execution_count": 71,
   "metadata": {},
   "outputs": [
    {
     "data": {
      "text/plain": [
       "<sqlite3.Cursor at 0x23a45f0f640>"
      ]
     },
     "execution_count": 71,
     "metadata": {},
     "output_type": "execute_result"
    }
   ],
   "source": [
    "cursor.execute('''\n",
    "\n",
    "INSERT OR REPLACE INTO dim_ship (imo, mmsi, ship_name)\n",
    "\n",
    "    SELECT imo, mmsi, ship_name FROM port_berthed_ships\n",
    "    UNION\n",
    "    SELECT imo, mmsi, ship_name FROM port_calls\n",
    "\n",
    "\n",
    "''')"
   ]
  },
  {
   "cell_type": "code",
   "execution_count": 21,
   "metadata": {},
   "outputs": [
    {
     "data": {
      "text/plain": [
       "216"
      ]
     },
     "execution_count": 21,
     "metadata": {},
     "output_type": "execute_result"
    }
   ],
   "source": [
    "hourly_weather_data.to_sql('weather_data', conn, if_exists='append', index=False)"
   ]
  },
  {
   "cell_type": "code",
   "execution_count": 5,
   "metadata": {},
   "outputs": [
    {
     "data": {
      "text/plain": [
       "92"
      ]
     },
     "execution_count": 5,
     "metadata": {},
     "output_type": "execute_result"
    }
   ],
   "source": [
    "port_calls.to_sql('port_calls', conn, if_exists='append', index=False)"
   ]
  },
  {
   "cell_type": "code",
   "execution_count": 76,
   "metadata": {},
   "outputs": [
    {
     "data": {
      "text/plain": [
       "89"
      ]
     },
     "execution_count": 76,
     "metadata": {},
     "output_type": "execute_result"
    }
   ],
   "source": [
    "port_berthed_f1.to_sql('port_berthed_ships', conn, if_exists='append', index=False)"
   ]
  },
  {
   "cell_type": "code",
   "execution_count": 44,
   "metadata": {},
   "outputs": [
    {
     "data": {
      "text/plain": [
       "59"
      ]
     },
     "execution_count": 44,
     "metadata": {},
     "output_type": "execute_result"
    }
   ],
   "source": [
    "scheduled.to_sql('scheduled', conn, if_exists='append',index=False)"
   ]
  },
  {
   "cell_type": "code",
   "execution_count": 52,
   "metadata": {},
   "outputs": [
    {
     "data": {
      "text/plain": [
       "277"
      ]
     },
     "execution_count": 52,
     "metadata": {},
     "output_type": "execute_result"
    }
   ],
   "source": [
    "foreseen_cargo.to_sql('foreseen_cargo', conn, if_exists='append',index=False)"
   ]
  },
  {
   "cell_type": "code",
   "execution_count": 62,
   "metadata": {},
   "outputs": [
    {
     "data": {
      "text/plain": [
       "106"
      ]
     },
     "execution_count": 62,
     "metadata": {},
     "output_type": "execute_result"
    }
   ],
   "source": [
    "foreseen_cruise.to_sql('foreseen_cruise', conn, if_exists='append',index=False)"
   ]
  },
  {
   "cell_type": "code",
   "execution_count": 73,
   "metadata": {},
   "outputs": [
    {
     "data": {
      "text/plain": [
       "47"
      ]
     },
     "execution_count": 73,
     "metadata": {},
     "output_type": "execute_result"
    }
   ],
   "source": [
    "berthage_ships.to_sql('berthage_ships', conn, if_exists='append',index=False)"
   ]
  },
  {
   "cell_type": "code",
   "execution_count": 79,
   "metadata": {},
   "outputs": [
    {
     "data": {
      "text/plain": [
       "82"
      ]
     },
     "execution_count": 79,
     "metadata": {},
     "output_type": "execute_result"
    }
   ],
   "source": [
    "berthed_ships.to_sql('berthed_ships', conn, if_exists='append',index=False)"
   ]
  },
  {
   "cell_type": "code",
   "execution_count": 73,
   "metadata": {},
   "outputs": [],
   "source": [
    "conn.commit()\n",
    "conn.close()"
   ]
  }
 ],
 "metadata": {
  "kernelspec": {
   "display_name": "venv",
   "language": "python",
   "name": "python3"
  },
  "language_info": {
   "codemirror_mode": {
    "name": "ipython",
    "version": 3
   },
   "file_extension": ".py",
   "mimetype": "text/x-python",
   "name": "python",
   "nbconvert_exporter": "python",
   "pygments_lexer": "ipython3",
   "version": "3.10.11"
  }
 },
 "nbformat": 4,
 "nbformat_minor": 2
}
